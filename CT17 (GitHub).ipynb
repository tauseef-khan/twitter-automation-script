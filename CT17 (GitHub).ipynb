{
 "cells": [
  {
   "cell_type": "markdown",
   "metadata": {},
   "source": [
    "### Import relevant libraries (ALWAYS EXECUTE CELL BELOW...OBVS!)"
   ]
  },
  {
   "cell_type": "code",
   "execution_count": 1,
   "metadata": {
    "collapsed": true
   },
   "outputs": [],
   "source": [
    "import tweepy\n",
    "from tweepy import OAuthHandler\n",
    "import json\n",
    "from collections import Counter\n",
    "import pandas as pd\n",
    "from datetime import datetime\n",
    "%matplotlib inline"
   ]
  },
  {
   "cell_type": "markdown",
   "metadata": {},
   "source": [
    "# 1) Capturing Charity Tech 2017 tweets (One-time use)"
   ]
  },
  {
   "cell_type": "markdown",
   "metadata": {},
   "source": [
    "### Authenticate credentials"
   ]
  },
  {
   "cell_type": "code",
   "execution_count": null,
   "metadata": {
    "collapsed": false
   },
   "outputs": [],
   "source": [
    "consumer_key = ''\n",
    "consumer_secret = ''\n",
    "access_token = ''\n",
    "access_secret = ''"
   ]
  },
  {
   "cell_type": "code",
   "execution_count": null,
   "metadata": {
    "collapsed": true
   },
   "outputs": [],
   "source": [
    "auth = OAuthHandler(consumer_key, consumer_secret)\n",
    "auth.set_access_token(access_token, access_secret)\n",
    "\n",
    "api = tweepy.API(auth)"
   ]
  },
  {
   "cell_type": "markdown",
   "metadata": {},
   "source": [
    "### Method to convert tweet to string to further processing"
   ]
  },
  {
   "cell_type": "code",
   "execution_count": null,
   "metadata": {
    "collapsed": true
   },
   "outputs": [],
   "source": [
    "def process_or_store(tweet):\n",
    "    return json.dumps(tweet)"
   ]
  },
  {
   "cell_type": "markdown",
   "metadata": {},
   "source": [
    "### Get and store tweets with the \"#charitytech17\" in them"
   ]
  },
  {
   "cell_type": "code",
   "execution_count": null,
   "metadata": {
    "collapsed": false
   },
   "outputs": [],
   "source": [
    "count = 0\n",
    "with open('charitytech17.json', 'a') as f:\n",
    "    for tweet in tweepy.Cursor(api.search,q=\"#charitytech17\",count=100,lang=\"en\", since_id=\"2017-11-09\").items():\n",
    "        a = process_or_store(tweet._json)\n",
    "        f.write(a)\n",
    "\n",
    "        count = count + 1"
   ]
  },
  {
   "cell_type": "markdown",
   "metadata": {},
   "source": [
    "#### Total number of tweets captured: 601"
   ]
  },
  {
   "cell_type": "code",
   "execution_count": null,
   "metadata": {
    "collapsed": false
   },
   "outputs": [],
   "source": [
    "count"
   ]
  },
  {
   "cell_type": "markdown",
   "metadata": {},
   "source": [
    "# 2) Process charity tech tweets (One-time use)"
   ]
  },
  {
   "cell_type": "markdown",
   "metadata": {},
   "source": [
    "### Method to read in tweets from file to allow further processing"
   ]
  },
  {
   "cell_type": "code",
   "execution_count": null,
   "metadata": {
    "collapsed": false
   },
   "outputs": [],
   "source": [
    "def process_tweets(filename):\n",
    "    with open(filename) as inp:\n",
    "        s = inp.read().strip()\n",
    "\n",
    "    jsons = []\n",
    "\n",
    "    start, end = s.find('{'), s.find('}')\n",
    "    while True:\n",
    "        try:\n",
    "            jsons.append(json.loads(s[start:end + 1]))\n",
    "        except ValueError:\n",
    "            end = end + 1 + s[end + 1:].find('}')\n",
    "        else:\n",
    "            s = s[end + 1:]\n",
    "            if not s:\n",
    "                break\n",
    "            start, end = s.find('{'), s.find('}')\n",
    "\n",
    "    return jsons"
   ]
  },
  {
   "cell_type": "markdown",
   "metadata": {},
   "source": [
    "### Filter out retweets (One-time use)"
   ]
  },
  {
   "cell_type": "code",
   "execution_count": null,
   "metadata": {
    "collapsed": true
   },
   "outputs": [],
   "source": [
    "jsons = process_tweets('charitytech17.json')"
   ]
  },
  {
   "cell_type": "code",
   "execution_count": null,
   "metadata": {
    "collapsed": true
   },
   "outputs": [],
   "source": [
    "count = 0\n",
    "for line in jsons:\n",
    "    \n",
    "     if 'retweeted_status' not in line:\n",
    "        \n",
    "        count = count + 1\n",
    "        with open('charitytech17_original.json', 'a') as g:\n",
    "            g.write(json.dumps(line))"
   ]
  },
  {
   "cell_type": "code",
   "execution_count": null,
   "metadata": {
    "collapsed": false
   },
   "outputs": [],
   "source": [
    "print('Number of tweets: ', count)"
   ]
  },
  {
   "cell_type": "code",
   "execution_count": null,
   "metadata": {
    "collapsed": true
   },
   "outputs": [],
   "source": [
    "# double check the number of original tweets is correct\n",
    "count = 0\n",
    "\n",
    "for line in jsons:\n",
    "    \n",
    "    if 'retweeted_status' in line:\n",
    "        count = count + 1"
   ]
  },
  {
   "cell_type": "code",
   "execution_count": null,
   "metadata": {
    "collapsed": false
   },
   "outputs": [],
   "source": [
    "print('Number of retweets: ', count)"
   ]
  },
  {
   "cell_type": "markdown",
   "metadata": {},
   "source": [
    "# 3) Dataset to be used (Start here if tweets already captured and filtered)"
   ]
  },
  {
   "cell_type": "code",
   "execution_count": 2,
   "metadata": {
    "collapsed": true
   },
   "outputs": [],
   "source": [
    "def process_tweets(filename):\n",
    "    with open(filename) as inp:\n",
    "        s = inp.read().strip()\n",
    "\n",
    "    jsons = []\n",
    "\n",
    "    start, end = s.find('{'), s.find('}')\n",
    "    while True:\n",
    "        try:\n",
    "            jsons.append(json.loads(s[start:end + 1]))\n",
    "        except ValueError:\n",
    "            end = end + 1 + s[end + 1:].find('}')\n",
    "        else:\n",
    "            s = s[end + 1:]\n",
    "            if not s:\n",
    "                break\n",
    "            start, end = s.find('{'), s.find('}')\n",
    "\n",
    "    return jsons"
   ]
  },
  {
   "cell_type": "code",
   "execution_count": 3,
   "metadata": {
    "collapsed": false
   },
   "outputs": [],
   "source": [
    "jsons = process_tweets('charitytech17_original.json')"
   ]
  },
  {
   "cell_type": "markdown",
   "metadata": {},
   "source": [
    "# Analysing charity tech 2017 tweets"
   ]
  },
  {
   "cell_type": "markdown",
   "metadata": {},
   "source": [
    "To analyse:\n",
    "* total number of tweets captured\n",
    "* top 10 hashtags\n",
    "* most retweeted tweet\n",
    "* most favourited tweet\n",
    "* most user mentions\n",
    "* tweet timeline"
   ]
  },
  {
   "cell_type": "markdown",
   "metadata": {},
   "source": [
    "## Total number of tweets captured"
   ]
  },
  {
   "cell_type": "code",
   "execution_count": 4,
   "metadata": {
    "collapsed": false
   },
   "outputs": [
    {
     "name": "stdout",
     "output_type": "stream",
     "text": [
      "397\n"
     ]
    }
   ],
   "source": [
    "print(len(jsons))"
   ]
  },
  {
   "cell_type": "markdown",
   "metadata": {},
   "source": [
    "## Top 10 hashtags"
   ]
  },
  {
   "cell_type": "code",
   "execution_count": 5,
   "metadata": {
    "collapsed": false
   },
   "outputs": [],
   "source": [
    "all_hashtags = []\n",
    "\n",
    "for line in jsons:\n",
    "    \n",
    "    # extract hashtags from tweet json\n",
    "    hashtags = line['entities']['hashtags']\n",
    "    \n",
    "    # add all hashtags found into a list\n",
    "    for tag in hashtags:\n",
    "        text = tag['text'].lower()\n",
    "        all_hashtags.append(text)"
   ]
  },
  {
   "cell_type": "code",
   "execution_count": 6,
   "metadata": {
    "collapsed": false
   },
   "outputs": [],
   "source": [
    "# convert list to type Counter for counting\n",
    "z = all_hashtags\n",
    "z = Counter(z)"
   ]
  },
  {
   "cell_type": "code",
   "execution_count": 7,
   "metadata": {
    "collapsed": false
   },
   "outputs": [
    {
     "data": {
      "text/plain": [
       "[('charitytech17', 282),\n",
       " ('charities', 9),\n",
       " ('bgsummit', 5),\n",
       " ('thursdaythoughts', 5),\n",
       " ('blockchain', 5),\n",
       " ('digital', 5),\n",
       " ('neonicotinoids', 4),\n",
       " ('vr', 3),\n",
       " ('charity', 3),\n",
       " ('crm', 3)]"
      ]
     },
     "execution_count": 7,
     "metadata": {},
     "output_type": "execute_result"
    }
   ],
   "source": [
    "# print n most frequent hashtags\n",
    "n = 10\n",
    "z.most_common(n)"
   ]
  },
  {
   "cell_type": "markdown",
   "metadata": {},
   "source": [
    "## Most retweeted tweet"
   ]
  },
  {
   "cell_type": "code",
   "execution_count": 8,
   "metadata": {
    "collapsed": false
   },
   "outputs": [],
   "source": [
    "count = 0\n",
    "name = \"\"\n",
    "screen_name = \"\"\n",
    "tweet = \"\"\n",
    "retweets = \"\"\n",
    "\n",
    "for line in jsons:\n",
    "    retweet_count = line['retweet_count']\n",
    "    \n",
    "    # get new tweet data if new retweet count is higher than the existing one\n",
    "    if retweet_count > count:\n",
    "        name = line['user']['name']\n",
    "        screen_name = line['user']['screen_name']\n",
    "        tweet = line['text']\n",
    "        retweets = retweet_count\n",
    "        \n",
    "        count = retweet_count"
   ]
  },
  {
   "cell_type": "code",
   "execution_count": 9,
   "metadata": {
    "collapsed": false
   },
   "outputs": [
    {
     "name": "stdout",
     "output_type": "stream",
     "text": [
      "Name:  Mandy Johnson\n",
      "Screen Name:  MsMandyJ\n",
      "Tweet:  Top tips from @DocJaneCollins for #DigitalTransformation \n",
      "\n",
      "1. Don't call it transformation\n",
      "2. Don't enforce change… https://t.co/LUUGjaSU4O\n",
      "Number of retweets:  48\n"
     ]
    }
   ],
   "source": [
    "# display tweet with highest retweet count\n",
    "print('Name: ', name)\n",
    "print('Screen Name: ', screen_name)\n",
    "print('Tweet: ', tweet)\n",
    "print('Number of retweets: ', retweets)"
   ]
  },
  {
   "cell_type": "markdown",
   "metadata": {},
   "source": [
    "## Most favorited tweet"
   ]
  },
  {
   "cell_type": "code",
   "execution_count": 10,
   "metadata": {
    "collapsed": true
   },
   "outputs": [],
   "source": [
    "count = 0\n",
    "name = \"\"\n",
    "screen_name = \"\"\n",
    "tweet = \"\"\n",
    "favorites = \"\"\n",
    "\n",
    "for line in jsons:\n",
    "    favorite_count = line['favorite_count']\n",
    "    \n",
    "    # get new tweet data if new favorite count is higher than the existing one\n",
    "    if favorite_count > count:\n",
    "        name = line['user']['name']\n",
    "        screen_name = line['user']['screen_name']\n",
    "        tweet = line['text']\n",
    "        favorites = favorite_count\n",
    "        \n",
    "        count = favorite_count"
   ]
  },
  {
   "cell_type": "code",
   "execution_count": 11,
   "metadata": {
    "collapsed": false
   },
   "outputs": [
    {
     "name": "stdout",
     "output_type": "stream",
     "text": [
      "Name:  Mandy Johnson\n",
      "Screen Name:  MsMandyJ\n",
      "Tweet:  Top tips from @DocJaneCollins for #DigitalTransformation \n",
      "\n",
      "1. Don't call it transformation\n",
      "2. Don't enforce change… https://t.co/LUUGjaSU4O\n",
      "Number of favorites:  53\n"
     ]
    }
   ],
   "source": [
    "# display tweet with highest favorite count\n",
    "print('Name: ', name)\n",
    "print('Screen Name: ', screen_name)\n",
    "print('Tweet: ', tweet)\n",
    "print('Number of favorites: ', favorites)"
   ]
  },
  {
   "cell_type": "markdown",
   "metadata": {},
   "source": [
    "## Most user mentions"
   ]
  },
  {
   "cell_type": "code",
   "execution_count": 12,
   "metadata": {
    "collapsed": false
   },
   "outputs": [],
   "source": [
    "names = []\n",
    "\n",
    "for line in jsons:\n",
    "    mentions = line['entities']['user_mentions']\n",
    "    \n",
    "    # gather all users mentioned into a one list\n",
    "    for user in mentions:\n",
    "        name = user['name'] + \": @\" + user['screen_name']\n",
    "        names.append(name)"
   ]
  },
  {
   "cell_type": "code",
   "execution_count": 13,
   "metadata": {
    "collapsed": true
   },
   "outputs": [],
   "source": [
    "# convert list into type Counter for counting\n",
    "y = names\n",
    "y = Counter(y)"
   ]
  },
  {
   "cell_type": "code",
   "execution_count": 14,
   "metadata": {
    "collapsed": false
   },
   "outputs": [
    {
     "data": {
      "text/plain": [
       "[('Marie Curie: @mariecurieuk', 29),\n",
       " ('Nightstop: @DepaulNightstop', 22),\n",
       " ('Civil Society: @CivilSocietyUK', 21),\n",
       " ('Dr. Jane Collins: @DocJaneCollins', 14),\n",
       " ('Jo Wolfe (Kerr): @msjowolfe', 13),\n",
       " ('Stephen Armstrong: @smdarmstrong', 13),\n",
       " ('Ian Williamson: @betteriser', 10),\n",
       " ('NicolaHarwood: @NicolaHarwood', 9),\n",
       " ('RoyalTrinityHospice: @trinityhospice', 9),\n",
       " ('Rhodri Davies  ☕️: @Rhodri_H_Davies', 8)]"
      ]
     },
     "execution_count": 14,
     "metadata": {},
     "output_type": "execute_result"
    }
   ],
   "source": [
    "# print n most frequently mentioned users\n",
    "n = 10\n",
    "y.most_common(n)"
   ]
  },
  {
   "cell_type": "markdown",
   "metadata": {},
   "source": [
    "## Charity tech tweets timeline"
   ]
  },
  {
   "cell_type": "code",
   "execution_count": 15,
   "metadata": {
    "collapsed": true
   },
   "outputs": [],
   "source": [
    "tweet_dates = []\n",
    "\n",
    "# store datetime of all tweets for plotting\n",
    "for line in jsons:\n",
    "    tweet_dates.append(line['created_at'])"
   ]
  },
  {
   "cell_type": "code",
   "execution_count": 16,
   "metadata": {
    "collapsed": false
   },
   "outputs": [],
   "source": [
    "# assign 1 for each tweet to allow grouping later one\n",
    "ones = [1] * len(tweet_dates)\n",
    "\n",
    "# use tweet datetime as index of series\n",
    "idx = pd.DatetimeIndex(tweet_dates)\n",
    "\n",
    "# create Series with tweet datetime as index and 1's for grouping\n",
    "ctech = pd.Series(ones, index=idx)\n",
    "\n",
    "# group tweets by day\n",
    "per_day = ctech.resample('1440T').sum().fillna(0)"
   ]
  },
  {
   "cell_type": "code",
   "execution_count": 17,
   "metadata": {
    "collapsed": false,
    "scrolled": true
   },
   "outputs": [
    {
     "data": {
      "text/plain": [
       "2017-11-02      2.0\n",
       "2017-11-03      0.0\n",
       "2017-11-04      0.0\n",
       "2017-11-05      0.0\n",
       "2017-11-06      2.0\n",
       "2017-11-07      4.0\n",
       "2017-11-08     13.0\n",
       "2017-11-09    364.0\n",
       "2017-11-10     12.0\n",
       "Freq: 1440T, dtype: float64"
      ]
     },
     "execution_count": 17,
     "metadata": {},
     "output_type": "execute_result"
    }
   ],
   "source": [
    "per_day"
   ]
  },
  {
   "cell_type": "markdown",
   "metadata": {},
   "source": [
    "### Tweet activity between 02 Nov - 10 Nov"
   ]
  },
  {
   "cell_type": "code",
   "execution_count": 18,
   "metadata": {
    "collapsed": false
   },
   "outputs": [
    {
     "data": {
      "text/plain": [
       "<matplotlib.axes._subplots.AxesSubplot at 0xc89df98080>"
      ]
     },
     "execution_count": 18,
     "metadata": {},
     "output_type": "execute_result"
    },
    {
     "data": {
      "image/png": "[encoded data removed]",
      "text/plain": [
       "<matplotlib.figure.Figure at 0xc89df94438>"
      ]
     },
     "metadata": {},
     "output_type": "display_data"
    }
   ],
   "source": [
    "per_day.plot.line()"
   ]
  },
  {
   "cell_type": "markdown",
   "metadata": {},
   "source": [
    "### Tweet activity on 9 Nov"
   ]
  },
  {
   "cell_type": "code",
   "execution_count": 19,
   "metadata": {
    "collapsed": false
   },
   "outputs": [],
   "source": [
    "start = datetime.strptime('Thu Nov 09 00:00:00 +0000 2017', '%a %b %d %H:%M:%S %z %Y')\n",
    "end = datetime.strptime('Thu Nov 09 23:59:59 +0000 2017', '%a %b %d %H:%M:%S %z %Y')\n",
    "\n",
    "nov9_tweet_dates = []\n",
    "\n",
    "for line in jsons:\n",
    "    datetime_object = datetime.strptime(line['created_at'], '%a %b %d %H:%M:%S %z %Y')\n",
    "    \n",
    "    # store tweets in a list which were tweeted on 9 November (day of conference)\n",
    "    if start <= datetime_object <= end:\n",
    "        nov9_tweet_dates.append(line['created_at'])"
   ]
  },
  {
   "cell_type": "code",
   "execution_count": 20,
   "metadata": {
    "collapsed": true
   },
   "outputs": [],
   "source": [
    "# assign 1 for each tweet to allow grouping later one\n",
    "ones = [1] * len(nov9_tweet_dates)\n",
    "\n",
    "# use tweet datetime as index of series\n",
    "idx = pd.DatetimeIndex(nov9_tweet_dates)\n",
    "\n",
    "# create Series with tweet datetime as index and 1's for grouping\n",
    "ctech = pd.Series(ones, index=idx)\n",
    "\n",
    "# group tweets by minute\n",
    "per_minute = ctech.resample('10T').sum().fillna(0)"
   ]
  },
  {
   "cell_type": "code",
   "execution_count": 21,
   "metadata": {
    "collapsed": false
   },
   "outputs": [
    {
     "data": {
      "text/plain": [
       "<matplotlib.axes._subplots.AxesSubplot at 0xc89e325940>"
      ]
     },
     "execution_count": 21,
     "metadata": {},
     "output_type": "execute_result"
    },
    {
     "data": {
      "image/png": "[encoded data removed]",
      "text/plain": [
       "<matplotlib.figure.Figure at 0xc89f834f60>"
      ]
     },
     "metadata": {},
     "output_type": "display_data"
    }
   ],
   "source": [
    "%matplotlib inline\n",
    "\n",
    "per_minute.plot.line()"
   ]
  }
 ],
 "metadata": {
  "kernelspec": {
   "display_name": "Python 3",
   "language": "python",
   "name": "python3"
  },
  "language_info": {
   "codemirror_mode": {
    "name": "ipython",
    "version": 3
   },
   "file_extension": ".py",
   "mimetype": "text/x-python",
   "name": "python",
   "nbconvert_exporter": "python",
   "pygments_lexer": "ipython3",
   "version": "3.5.3"
  }
 },
 "nbformat": 4,
 "nbformat_minor": 0
}
